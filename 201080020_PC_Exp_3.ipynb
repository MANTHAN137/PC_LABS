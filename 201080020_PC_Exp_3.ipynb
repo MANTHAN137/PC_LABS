{
  "nbformat": 4,
  "nbformat_minor": 0,
  "metadata": {
    "colab": {
      "provenance": []
    },
    "kernelspec": {
      "name": "python3",
      "display_name": "Python 3"
    },
    "language_info": {
      "name": "python"
    },
    "accelerator": "GPU",
    "gpuClass": "standard"
  },
  "cells": [
    {
      "cell_type": "code",
      "execution_count": null,
      "metadata": {
        "colab": {
          "base_uri": "https://localhost:8080/"
        },
        "id": "p6WbwNah530C",
        "outputId": "722e3e57-584e-4b81-d3da-96ba815efd4b"
      },
      "outputs": [
        {
          "output_type": "stream",
          "name": "stdout",
          "text": [
            "nvcc: NVIDIA (R) Cuda compiler driver\n",
            "Copyright (c) 2005-2022 NVIDIA Corporation\n",
            "Built on Tue_Mar__8_18:18:20_PST_2022\n",
            "Cuda compilation tools, release 11.6, V11.6.124\n",
            "Build cuda_11.6.r11.6/compiler.31057947_0\n"
          ]
        }
      ],
      "source": [
        "!nvcc --version"
      ]
    },
    {
      "cell_type": "code",
      "source": [
        "!pip install git+https://github.com/andreinechaev/nvcc4jupyter.git"
      ],
      "metadata": {
        "colab": {
          "base_uri": "https://localhost:8080/"
        },
        "id": "EOjjXS616DIY",
        "outputId": "ade92131-9220-4b81-e104-16d6b8c810ae"
      },
      "execution_count": null,
      "outputs": [
        {
          "output_type": "stream",
          "name": "stdout",
          "text": [
            "Looking in indexes: https://pypi.org/simple, https://us-python.pkg.dev/colab-wheels/public/simple/\n",
            "Collecting git+https://github.com/andreinechaev/nvcc4jupyter.git\n",
            "  Cloning https://github.com/andreinechaev/nvcc4jupyter.git to /tmp/pip-req-build-9vycyfbm\n",
            "  Running command git clone --filter=blob:none --quiet https://github.com/andreinechaev/nvcc4jupyter.git /tmp/pip-req-build-9vycyfbm\n",
            "  Resolved https://github.com/andreinechaev/nvcc4jupyter.git to commit aac710a35f52bb78ab34d2e52517237941399eff\n",
            "  Preparing metadata (setup.py) ... \u001b[?25l\u001b[?25hdone\n"
          ]
        }
      ]
    },
    {
      "cell_type": "code",
      "source": [
        "%load_ext nvcc_plugin"
      ],
      "metadata": {
        "colab": {
          "base_uri": "https://localhost:8080/"
        },
        "id": "d8TByvsf6Iwu",
        "outputId": "fa3064b4-29e7-4a32-d8f8-098647974190"
      },
      "execution_count": null,
      "outputs": [
        {
          "output_type": "stream",
          "name": "stdout",
          "text": [
            "The nvcc_plugin extension is already loaded. To reload it, use:\n",
            "  %reload_ext nvcc_plugin\n"
          ]
        }
      ]
    },
    {
      "cell_type": "code",
      "source": [
        "%%cu\n",
        "#include <stdio.h>\n",
        "#include <stdlib.h>\n",
        "\n",
        "__device__ int d_size;\n",
        "\n",
        "__global__ void partition (int *arr, int *arr_l, int *arr_h, int n)\n",
        "{\n",
        "    int z = blockIdx.x*blockDim.x+threadIdx.x;\n",
        "    d_size = 0;\n",
        "    __syncthreads();\n",
        "    if (z<n)\n",
        "      {\n",
        "        int h = arr_h[z];\n",
        "        int l = arr_l[z];\n",
        "        int x = arr[h];\n",
        "        int i = (l - 1);\n",
        "        int temp;\n",
        "        for (int j = l; j <= h- 1; j++)\n",
        "          {\n",
        "            if (arr[j] <= x)\n",
        "              {\n",
        "                i++;\n",
        "                temp = arr[i];\n",
        "                arr[i] = arr[j];\n",
        "                arr[j] = temp;\n",
        "              }\n",
        "          }\n",
        "        temp = arr[i+1];\n",
        "        arr[i+1] = arr[h];\n",
        "        arr[h] = temp;\n",
        "        int p = (i + 1);\n",
        "        if (p-1 > l)\n",
        "          {\n",
        "            int ind = atomicAdd(&d_size, 1);\n",
        "            arr_l[ind] = l;\n",
        "            arr_h[ind] = p-1;  \n",
        "          }\n",
        "        if ( p+1 < h )\n",
        "          {\n",
        "            int ind = atomicAdd(&d_size, 1);\n",
        "            arr_l[ind] = p+1;\n",
        "            arr_h[ind] = h; \n",
        "          }\n",
        "      }\n",
        "}\n",
        "void quickSortIterative (int arr[], int l, int h)\n",
        "{\n",
        "    int lstack[ h - l + 1 ], hstack[ h - l + 1];\n",
        " \n",
        "    int top = -1, *d_d, *d_l, *d_h;\n",
        " \n",
        "    lstack[ ++top ] = l;\n",
        "    hstack[ top ] = h;\n",
        "\n",
        "    cudaMalloc(&d_d, (h-l+1)*sizeof(int));\n",
        "    cudaMemcpy(d_d, arr,(h-l+1)*sizeof(int),cudaMemcpyHostToDevice);\n",
        "\n",
        "    cudaMalloc(&d_l, (h-l+1)*sizeof(int));\n",
        "    cudaMemcpy(d_l, lstack,(h-l+1)*sizeof(int),cudaMemcpyHostToDevice);\n",
        "\n",
        "    cudaMalloc(&d_h, (h-l+1)*sizeof(int));\n",
        "    cudaMemcpy(d_h, hstack,(h-l+1)*sizeof(int),cudaMemcpyHostToDevice);\n",
        "    int n_t = 1;\n",
        "    int n_b = 1;\n",
        "    int n_i = 1; \n",
        "    while ( n_i > 0 )\n",
        "    {\n",
        "        partition<<<n_b,n_t>>>( d_d, d_l, d_h, n_i);\n",
        "        int answer;\n",
        "        cudaMemcpyFromSymbol(&answer, d_size, sizeof(int), 0, cudaMemcpyDeviceToHost); \n",
        "        if (answer < 1024)\n",
        "          {\n",
        "            n_t = answer;\n",
        "          }\n",
        "        else\n",
        "          {\n",
        "            n_t = 1024;\n",
        "            n_b = answer/n_t + (answer%n_t==0?0:1);\n",
        "          }\n",
        "        n_i = answer;\n",
        "        cudaMemcpy(arr, d_d,(h-l+1)*sizeof(int),cudaMemcpyDeviceToHost);\n",
        "    }\n",
        "}\n",
        " \n",
        "\n",
        "int main()\n",
        "{\n",
        "    int arr[10] = {9,8,7,6,5,949,11,1,2,100};\n",
        " \n",
        "    printf(\"Initial array: \");\n",
        "    for(int i = 0; i < 10; i++){\n",
        "        printf(\"%d \" , arr[i]);\n",
        "    }\n",
        " \n",
        "    int n = sizeof( arr ) / sizeof( *arr );\n",
        "    quickSortIterative( arr, 0, n - 1 );\n",
        "  \n",
        "    printf(\"\\nApplying quick sort... \\nDisplaying sorted array: \");\n",
        "\n",
        "    for(int i = 0; i < 10; i++){\n",
        "        printf(\"%d \" , arr[i]);\n",
        "    }\n",
        "    return 0;\n",
        "}"
      ],
      "metadata": {
        "colab": {
          "base_uri": "https://localhost:8080/"
        },
        "id": "CvcoXyp66LFB",
        "outputId": "d501e285-c869-4f26-b1bc-a4513bf51018"
      },
      "execution_count": null,
      "outputs": [
        {
          "output_type": "stream",
          "name": "stdout",
          "text": [
            "Initial array: 9 8 7 6 5 949 11 1 2 100 \n",
            "Applying quick sort... \n",
            "Displaying sorted array: 1 2 5 6 7 8 9 11 100 949 \n"
          ]
        }
      ]
    },
    {
      "cell_type": "code",
      "source": [],
      "metadata": {
        "id": "cSaSDr_u6M7O"
      },
      "execution_count": null,
      "outputs": []
    }
  ]
}