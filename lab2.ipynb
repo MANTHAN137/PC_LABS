{
  "nbformat": 4,
  "nbformat_minor": 0,
  "metadata": {
    "colab": {
      "provenance": []
    },
    "kernelspec": {
      "name": "python3",
      "display_name": "Python 3"
    },
    "language_info": {
      "name": "python"
    },
    "accelerator": "GPU",
    "gpuClass": "standard"
  },
  "cells": [
    {
      "cell_type": "code",
      "execution_count": null,
      "metadata": {
        "colab": {
          "base_uri": "https://localhost:8080/"
        },
        "id": "REheI-e15q0k",
        "outputId": "e5be1b67-3504-4278-b4a3-9b5dc69b24b2"
      },
      "outputs": [
        {
          "output_type": "stream",
          "name": "stdout",
          "text": [
            "Looking in indexes: https://pypi.org/simple, https://us-python.pkg.dev/colab-wheels/public/simple/\n",
            "Collecting git+https://github.com/andreinechaev/nvcc4jupyter.git\n",
            "  Cloning https://github.com/andreinechaev/nvcc4jupyter.git to /tmp/pip-req-build-d61fd3lr\n",
            "  Running command git clone --filter=blob:none --quiet https://github.com/andreinechaev/nvcc4jupyter.git /tmp/pip-req-build-d61fd3lr\n",
            "  Resolved https://github.com/andreinechaev/nvcc4jupyter.git to commit aac710a35f52bb78ab34d2e52517237941399eff\n",
            "  Preparing metadata (setup.py) ... \u001b[?25l\u001b[?25hdone\n",
            "Building wheels for collected packages: NVCCPlugin\n",
            "  Building wheel for NVCCPlugin (setup.py) ... \u001b[?25l\u001b[?25hdone\n",
            "  Created wheel for NVCCPlugin: filename=NVCCPlugin-0.0.2-py3-none-any.whl size=4304 sha256=8a52c803a81f1c7b9f75bbae08bf211510313be59b6151fde17a68f4ff4471bc\n",
            "  Stored in directory: /tmp/pip-ephem-wheel-cache-o02g4u6k/wheels/f3/08/cc/e2b5b0e1c92df07dbb50a6f024a68ce090f5e7b2316b41756d\n",
            "Successfully built NVCCPlugin\n",
            "Installing collected packages: NVCCPlugin\n",
            "Successfully installed NVCCPlugin-0.0.2\n"
          ]
        }
      ],
      "source": [
        "!pip install git+https://github.com/andreinechaev/nvcc4jupyter.git"
      ]
    },
    {
      "cell_type": "code",
      "source": [
        "%load_ext nvcc_plugin"
      ],
      "metadata": {
        "colab": {
          "base_uri": "https://localhost:8080/"
        },
        "id": "_zkDkRCy_z4t",
        "outputId": "b31ae141-0efa-4e43-94d8-80d12f9ce405"
      },
      "execution_count": null,
      "outputs": [
        {
          "output_type": "stream",
          "name": "stdout",
          "text": [
            "created output directory at /content/src\n",
            "Out bin /content/result.out\n"
          ]
        }
      ]
    },
    {
      "cell_type": "code",
      "source": [
        "%%cu\n",
        "#include \"cuda_runtime.h\"\n",
        "#include \"device_launch_parameters.h\"\n",
        "#include <cuda.h>\n",
        "#include <cuda_runtime_api.h>\n",
        "\n",
        "#include <stdio.h>\n",
        "#include <stdlib.h>\n",
        "#include <math.h>\n",
        "\n",
        "#define NUM_NODES 5\n",
        "\n",
        "typedef struct\n",
        "{\n",
        "\tint start;     // Index of first adjacent node in Ea\t\n",
        "\tint length;    // Number of adjacent nodes \n",
        "} Node;\n",
        "\n",
        "__global__ void CUDA_BFS_KERNEL(Node *Va, int *Ea, bool *Fa, bool *Xa, int *Ca,bool *done)\n",
        "{\n",
        "\n",
        "\tint id = threadIdx.x + blockIdx.x * blockDim.x;\n",
        "\tif (id > NUM_NODES)\n",
        "\t\t*done = false;\n",
        "\n",
        "\n",
        "\tif (Fa[id] == true && Xa[id] == false)\n",
        "\t{\n",
        "\t\tprintf(\"%d \", id); //This printf gives the order of vertices in BFS\t\n",
        "\t\tFa[id] = false;\n",
        "\t\tXa[id] = true;\n",
        "\t\t__syncthreads(); \n",
        "\t\tint k = 0;\n",
        "\t\tint i;\n",
        "\t\tint start = Va[id].start;\n",
        "\t\tint end = start + Va[id].length;\n",
        "\t\tfor (int i = start; i < end; i++) \n",
        "\t\t{\n",
        "\t\t\tint nid = Ea[i];\n",
        "\n",
        "\t\t\tif (Xa[nid] == false)\n",
        "\t\t\t{\n",
        "\t\t\t\tCa[nid] = Ca[id] + 1;\n",
        "\t\t\t\tFa[nid] = true;\n",
        "\t\t\t\t*done = false;\n",
        "\t\t\t}\n",
        "\n",
        "\t\t}\n",
        "\n",
        "\t}\n",
        "\n",
        "}\n",
        "\n",
        "// The BFS frontier corresponds to all the nodes being processed at the current level.\n",
        "\n",
        "\n",
        "int main()\n",
        "{\n",
        "\n",
        "\n",
        "\n",
        "\n",
        "\t Node node[NUM_NODES];\n",
        "\t\n",
        "\t\n",
        "\t//int edgesSize = 2 * NUM_NODES;\n",
        "\tint edges[NUM_NODES];\n",
        "\n",
        "\tnode[0].start = 0;\n",
        "\tnode[0].length = 2;\n",
        "\n",
        "\tnode[1].start = 2;\n",
        "\tnode[1].length = 1;\n",
        "\n",
        "\tnode[2].start = 3;\n",
        "\tnode[2].length = 1;\n",
        "\n",
        "\tnode[3].start = 4;\n",
        "\tnode[3].length = 1;\n",
        "\n",
        "\tnode[4].start = 5;\n",
        "\tnode[4].length = 0;\n",
        "\n",
        "\tedges[0] = 1;\n",
        "\tedges[1] = 2;\t\n",
        "\tedges[2] = 4;\n",
        "\tedges[3] = 3;\n",
        "\tedges[4] = 4;\n",
        "\n",
        "\tbool frontier[NUM_NODES] = { false };\n",
        "\tbool visited[NUM_NODES] = { false };\n",
        "\tint cost[NUM_NODES] = { 0 };\n",
        "\n",
        "\tint source = 0;\n",
        "\tfrontier[source] = true;\n",
        "\n",
        "\tNode* Va;\n",
        "\tcudaMalloc((void**)&Va, sizeof(Node)*NUM_NODES);\n",
        "\tcudaMemcpy(Va, node, sizeof(Node)*NUM_NODES, cudaMemcpyHostToDevice);\n",
        "\n",
        "\tint* Ea;\n",
        "\tcudaMalloc((void**)&Ea, sizeof(Node)*NUM_NODES);\n",
        "\tcudaMemcpy(Ea, edges, sizeof(Node)*NUM_NODES, cudaMemcpyHostToDevice);\n",
        "\n",
        "\tbool* Fa;\n",
        "\tcudaMalloc((void**)&Fa, sizeof(bool)*NUM_NODES);\n",
        "\tcudaMemcpy(Fa, frontier, sizeof(bool)*NUM_NODES, cudaMemcpyHostToDevice);\n",
        "\n",
        "\tbool* Xa;\n",
        "\tcudaMalloc((void**)&Xa, sizeof(bool)*NUM_NODES);\n",
        "\tcudaMemcpy(Xa, visited, sizeof(bool)*NUM_NODES, cudaMemcpyHostToDevice);\n",
        "\n",
        "\tint* Ca;\n",
        "\tcudaMalloc((void**)&Ca, sizeof(int)*NUM_NODES);\n",
        "\tcudaMemcpy(Ca, cost, sizeof(int)*NUM_NODES, cudaMemcpyHostToDevice);\n",
        "\n",
        "\t\n",
        "\n",
        "\tint num_blks = 1;\n",
        "\tint threads = 5;\n",
        "\n",
        "\n",
        "\n",
        "\tbool done;\n",
        "\tbool* d_done;\n",
        "\tcudaMalloc((void**)&d_done, sizeof(bool));\n",
        "\tprintf(\"\\n\\n\");\n",
        "\tint count = 0;\n",
        "\n",
        "\tprintf(\"Order: \\n\\n\");\n",
        "\tdo {\n",
        "\t\tcount++;\n",
        "\t\tdone = true;\n",
        "\t\tcudaMemcpy(d_done, &done, sizeof(bool), cudaMemcpyHostToDevice);\n",
        "\t\tCUDA_BFS_KERNEL <<<num_blks, threads >>>(Va, Ea, Fa, Xa, Ca,d_done);\n",
        "\t\tcudaMemcpy(&done, d_done , sizeof(bool), cudaMemcpyDeviceToHost);\n",
        "\n",
        "\t} while (!done);\n",
        "\n",
        "\n",
        "\n",
        "\n",
        "\tcudaMemcpy(cost, Ca, sizeof(int)*NUM_NODES, cudaMemcpyDeviceToHost);\n",
        "\t\n",
        "\tprintf(\"Number of times the kernel is called : %d \\n\", count);\n",
        "\n",
        "\n",
        "\tprintf(\"\\nCost: \");\n",
        "\tfor (int i = 0; i<NUM_NODES; i++)\n",
        "\t\tprintf( \"%d    \", cost[i]);\n",
        "\tprintf(\"\\n\");\n",
        "\n",
        "\t\n",
        "}"
      ],
      "metadata": {
        "colab": {
          "base_uri": "https://localhost:8080/"
        },
        "id": "LnJhyRIo5usH",
        "outputId": "347c0a24-6ecf-48af-f843-22e5b7a73642"
      },
      "execution_count": null,
      "outputs": [
        {
          "output_type": "stream",
          "name": "stdout",
          "text": [
            "\n",
            "\n",
            "Order: \n",
            "\n",
            "0 1 2 3 4 Number of times the kernel is called : 3 \n",
            "\n",
            "Cost: 0    1    1    2    2    \n",
            "\n"
          ]
        }
      ]
    }
  ]
}