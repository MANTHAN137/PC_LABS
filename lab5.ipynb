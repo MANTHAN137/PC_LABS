{
  "cells": [
    {
      "cell_type": "code",
      "execution_count": 1,
      "metadata": {
        "colab": {
          "base_uri": "https://localhost:8080/"
        },
        "id": "ykOB8sVvKOCL",
        "outputId": "b13f1995-108b-4b0b-b690-fef067e53102"
      },
      "outputs": [
        {
          "name": "stderr",
          "output_type": "stream",
          "text": [
            "'apt' is not recognized as an internal or external command,\n",
            "operable program or batch file.\n"
          ]
        }
      ],
      "source": [
        "!apt list --installed"
      ]
    },
    {
      "cell_type": "code",
      "execution_count": 2,
      "metadata": {
        "colab": {
          "base_uri": "https://localhost:8080/"
        },
        "id": "jym4Jw9DKOvd",
        "outputId": "a595dbf4-ddd7-422a-ef70-55af0c660033"
      },
      "outputs": [
        {
          "name": "stderr",
          "output_type": "stream",
          "text": [
            "'nvcc' is not recognized as an internal or external command,\n",
            "operable program or batch file.\n"
          ]
        }
      ],
      "source": [
        "!nvcc --version"
      ]
    },
    {
      "cell_type": "code",
      "execution_count": 3,
      "metadata": {
        "id": "AY-08nPIbGQ5"
      },
      "outputs": [],
      "source": [
        "##!gcc -o Dijkstra -fopenmp Dijkstra.c\n",
        "\n",
        "code =\"\"\"\n",
        "#include <stdio.h>\n",
        "#include <stdlib.h>\n",
        "#include <omp.h>\n",
        "\n",
        "#define INF 999999\n",
        "\n",
        "void dijkstra(int** graph, int n, int start)\n",
        "{\n",
        "    int* dist = (int*)malloc(n * sizeof(int));\n",
        "    int* visited = (int*)malloc(n * sizeof(int));\n",
        "\n",
        "    // initialize the distance array and visited array\n",
        "    #pragma omp parallel for\n",
        "    for (int i = 0; i < n; i++) {\n",
        "        dist[i] = INF;\n",
        "        visited[i] = 0;\n",
        "    }\n",
        "\n",
        "    // set the distance to the starting node as 0\n",
        "    dist[start] = 0;\n",
        "\n",
        "    // find shortest path for all vertices\n",
        "    #pragma omp parallel for\n",
        "    for (int count = 0; count < n - 1; count++) {\n",
        "        // find the vertex with minimum distance value\n",
        "        int min_dist = INF;\n",
        "        int u;\n",
        "        #pragma omp parallel for\n",
        "        for (int v = 0; v < n; v++) {\n",
        "            if (!visited[v] && dist[v] <= min_dist) {\n",
        "                min_dist = dist[v];\n",
        "                u = v;\n",
        "            }\n",
        "        }\n",
        "\n",
        "        // mark the selected vertex as visited\n",
        "        visited[u] = 1;\n",
        "\n",
        "        // update the distance values of the adjacent vertices of the selected vertex\n",
        "        #pragma omp parallel for\n",
        "        for (int v = 0; v < n; v++) {\n",
        "            if (!visited[v] && graph[u][v] && dist[u] != INF && dist[u] + graph[u][v] < dist[v]) {\n",
        "                dist[v] = dist[u] + graph[u][v];\n",
        "            }\n",
        "        }\n",
        "    }\n",
        "\n",
        "    // print the distances of all vertices from the starting vertex\n",
        "    printf(\"Vertex \\\\t Distance from Start\\\\n\");\n",
        "    for (int i = 0; i < n; i++) {\n",
        "        printf(\"%d \\\\t\\\\t %d\\\\n\", i, dist[i]);\n",
        "    }\n",
        "\n",
        "    free(dist);\n",
        "    free(visited);\n",
        "}\n",
        "\n",
        "int main()\n",
        "{\n",
        "    int n, start;\n",
        "    printf(\"Enter the number of vertices: \");\n",
        "    scanf(\"%d\", &n);\n",
        "\n",
        "    int** graph = (int**)malloc(n * sizeof(int*));\n",
        "    for (int i = 0; i < n; i++) {\n",
        "        graph[i] = (int*)malloc(n * sizeof(int));\n",
        "    }\n",
        "\n",
        "    printf(\"Enter the adjacency matrix:\\\\n\");\n",
        "    for (int i = 0; i < n; i++) {\n",
        "        for (int j = 0; j < n; j++) {\n",
        "            scanf(\"%d\", &graph[i][j]);\n",
        "        }\n",
        "    }\n",
        "\n",
        "    printf(\"Enter the starting vertex: \");\n",
        "    scanf(\"%d\", &start);\n",
        "\n",
        "    dijkstra(graph, n, start);\n",
        "\n",
        "    for (int i = 0; i < n; i++) {\n",
        "        free(graph[i]);\n",
        "    }\n",
        "    free(graph);\n",
        "\n",
        "    return 0;\n",
        "}\n",
        "\n",
        "\"\"\""
      ]
    },
    {
      "cell_type": "code",
      "execution_count": 4,
      "metadata": {
        "id": "4tZJWnwAcBwN"
      },
      "outputs": [],
      "source": [
        "text_file=open(\"Dijkstra.c\",\"w\")\n",
        "text_file.write(code)\n",
        "text_file.close()"
      ]
    },
    {
      "cell_type": "code",
      "execution_count": 5,
      "metadata": {
        "id": "90LjYkGPcEbr"
      },
      "outputs": [
        {
          "name": "stderr",
          "output_type": "stream",
          "text": [
            "c:/mingw/bin/../lib/gcc/mingw32/6.3.0/../../../../mingw32/bin/ld.exe: cannot find -lpthread\n",
            "collect2.exe: error: ld returned 1 exit status\n"
          ]
        }
      ],
      "source": [
        "!gcc -o Dijkstra -fopenmp Dijkstra.c\n"
      ]
    },
    {
      "cell_type": "markdown",
      "metadata": {
        "id": "HIdsDr3-tWir"
      },
      "source": [
        "[link text](https://cdn1.byjus.com/wp-content/uploads/2020/08/Adjacency-Matrix-02.png)"
      ]
    },
    {
      "cell_type": "code",
      "execution_count": 6,
      "metadata": {
        "colab": {
          "base_uri": "https://localhost:8080/"
        },
        "id": "2ikGk29yVeZP",
        "outputId": "e5f2d733-9301-4e47-a249-379119c7cafc"
      },
      "outputs": [
        {
          "name": "stderr",
          "output_type": "stream",
          "text": [
            "'.' is not recognized as an internal or external command,\n",
            "operable program or batch file.\n"
          ]
        }
      ],
      "source": [
        "!./Dijkstra"
      ]
    },
    {
      "cell_type": "code",
      "execution_count": 7,
      "metadata": {
        "id": "S4PRB49SaGLn"
      },
      "outputs": [
        {
          "ename": "SyntaxError",
          "evalue": "invalid syntax (<ipython-input-7-298bf30718c7>, line 1)",
          "output_type": "error",
          "traceback": [
            "\u001b[1;36m  File \u001b[1;32m\"<ipython-input-7-298bf30718c7>\"\u001b[1;36m, line \u001b[1;32m1\u001b[0m\n\u001b[1;33m    0 3 0 0 0 12 0\u001b[0m\n\u001b[1;37m      ^\u001b[0m\n\u001b[1;31mSyntaxError\u001b[0m\u001b[1;31m:\u001b[0m invalid syntax\n"
          ]
        }
      ],
      "source": [
        "0 3 0 0 0 12 0\n",
        "3 0 5 0 0 0 4\n",
        "0 5 0 6 0 0 4\n",
        "0 0 6 0 1 0 0\n",
        "0 0 0 1 0 10 7\n",
        "12 0 0 0 10 0 2\n",
        "0 4 3 0 7 2 0"
      ]
    }
  ],
  "metadata": {
    "colab": {
      "provenance": []
    },
    "kernelspec": {
      "display_name": "Python 3",
      "name": "python3"
    },
    "language_info": {
      "codemirror_mode": {
        "name": "ipython",
        "version": 3
      },
      "file_extension": ".py",
      "mimetype": "text/x-python",
      "name": "python",
      "nbconvert_exporter": "python",
      "pygments_lexer": "ipython3",
      "version": "3.8.8"
    }
  },
  "nbformat": 4,
  "nbformat_minor": 0
}
