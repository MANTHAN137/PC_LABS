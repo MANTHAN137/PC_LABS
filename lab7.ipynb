{
  "nbformat": 4,
  "nbformat_minor": 0,
  "metadata": {
    "colab": {
      "provenance": [],
      "gpuType": "T4"
    },
    "kernelspec": {
      "name": "python3",
      "display_name": "Python 3"
    },
    "language_info": {
      "name": "python"
    },
    "accelerator": "GPU",
    "gpuClass": "standard"
  },
  "cells": [
    {
      "cell_type": "code",
      "source": [
        "!apt-get -y update\n",
        "!apt-get -y install mpich\n",
        "!pip install mpi4py"
      ],
      "metadata": {
        "colab": {
          "base_uri": "https://localhost:8080/"
        },
        "id": "026VKkTOxHpe",
        "outputId": "e987134e-a140-4d41-e1de-5fcd8ac32e58"
      },
      "execution_count": null,
      "outputs": [
        {
          "output_type": "stream",
          "name": "stdout",
          "text": [
            "\r0% [Working]\r            \rHit:1 http://security.ubuntu.com/ubuntu focal-security InRelease\n",
            "\r0% [Connecting to archive.ubuntu.com (185.125.190.36)] [Connected to cloud.r-pr\r                                                                               \rHit:2 http://ppa.launchpad.net/c2d4u.team/c2d4u4.0+/ubuntu focal InRelease\n",
            "\r0% [Waiting for headers] [Waiting for headers] [Waiting for headers] [Waiting f\r                                                                               \rHit:3 https://cloud.r-project.org/bin/linux/ubuntu focal-cran40/ InRelease\n",
            "\r                                                                               \r0% [Waiting for headers] [Waiting for headers] [Waiting for headers]\r                                                                    \rHit:4 http://ppa.launchpad.net/cran/libgit2/ubuntu focal InRelease\n",
            "\r0% [Waiting for headers] [Connecting to ppa.launchpad.net (185.125.190.52)] [Wa\r                                                                               \rHit:5 http://ppa.launchpad.net/deadsnakes/ppa/ubuntu focal InRelease\n",
            "\r0% [Waiting for headers] [Connecting to ppa.launchpad.net (185.125.190.52)] [Wa\r                                                                               \rHit:6 https://developer.download.nvidia.com/compute/cuda/repos/ubuntu2004/x86_64  InRelease\n",
            "\r                                                                               \r0% [Waiting for headers] [Connecting to ppa.launchpad.net (185.125.190.52)]\r                                                                           \rHit:7 http://ppa.launchpad.net/graphics-drivers/ppa/ubuntu focal InRelease\n",
            "Hit:8 http://ppa.launchpad.net/ubuntugis/ppa/ubuntu focal InRelease\n",
            "Hit:9 http://archive.ubuntu.com/ubuntu focal InRelease\n",
            "Hit:10 http://archive.ubuntu.com/ubuntu focal-updates InRelease\n",
            "Hit:11 http://archive.ubuntu.com/ubuntu focal-backports InRelease\n",
            "Reading package lists... Done\n",
            "Reading package lists... Done\n",
            "Building dependency tree       \n",
            "Reading state information... Done\n",
            "mpich is already the newest version (3.3.2-2build1).\n",
            "0 upgraded, 0 newly installed, 0 to remove and 27 not upgraded.\n",
            "Looking in indexes: https://pypi.org/simple, https://us-python.pkg.dev/colab-wheels/public/simple/\n",
            "Requirement already satisfied: mpi4py in /usr/local/lib/python3.9/dist-packages (3.1.4)\n"
          ]
        }
      ]
    },
    {
      "cell_type": "markdown",
      "source": [
        "###Task-1 : Calculate rank and number of processor"
      ],
      "metadata": {
        "id": "azX7Ki2d3L1Q"
      }
    },
    {
      "cell_type": "code",
      "execution_count": null,
      "metadata": {
        "colab": {
          "base_uri": "https://localhost:8080/"
        },
        "id": "ZJwgWXh_wKn2",
        "outputId": "253e3c19-5880-49bc-e13a-48f09209a79f"
      },
      "outputs": [
        {
          "output_type": "stream",
          "name": "stdout",
          "text": [
            "Overwriting mpi_r.c\n"
          ]
        }
      ],
      "source": [
        "%%writefile mpi_r.c\n",
        "#include <mpi.h>\n",
        "#include <stdio.h>\n",
        "\n",
        "int main(int argc, char** argv) {\n",
        "  int rank, size;\n",
        "\n",
        "  MPI_Init(NULL, NULL);\n",
        "  MPI_Comm_rank(MPI_COMM_WORLD, &rank);\n",
        "  MPI_Comm_size(MPI_COMM_WORLD, &size);\n",
        "\n",
        "  printf(\"I am process %d of %d.\\n\", rank, size);\n",
        "\n",
        "  MPI_Finalize();\n",
        "  return 0;\n",
        "}\n"
      ]
    },
    {
      "cell_type": "code",
      "source": [
        "\n",
        "!mpicc mpi_r.c -o mpi_r\n",
        "!mpirun --allow-run-as-root -n 1 ./mpi_r"
      ],
      "metadata": {
        "colab": {
          "base_uri": "https://localhost:8080/"
        },
        "id": "dyE6hJSLycxm",
        "outputId": "038829bb-3a09-40a7-f4fb-d4a02083865b"
      },
      "execution_count": null,
      "outputs": [
        {
          "output_type": "stream",
          "name": "stdout",
          "text": [
            "I am process 0 of 1.\n"
          ]
        }
      ]
    },
    {
      "cell_type": "markdown",
      "source": [
        "###Task-2 : Calculate value of pi "
      ],
      "metadata": {
        "id": "B7xxNLsm3ZL4"
      }
    },
    {
      "cell_type": "code",
      "source": [
        "%%writefile mpi_pi.c\n",
        "#include <mpi.h>\n",
        "#include <stdio.h>\n",
        "#include <math.h>\n",
        "\n",
        "int main(int argc, char** argv) {\n",
        "  int rank, size;\n",
        "  long long int n = 1000000;\n",
        "  double x, pi, sum = 0.0;\n",
        "  int i;\n",
        "\n",
        "  MPI_Init(NULL, NULL);\n",
        "  MPI_Comm_rank(MPI_COMM_WORLD, &rank);\n",
        "  MPI_Comm_size(MPI_COMM_WORLD, &size);\n",
        "\n",
        "  for (i = rank; i < n; i += size) {\n",
        "    x = (double)(i + 0.5) / (double)n;\n",
        "    sum += 4.0 / (1.0 + x * x);\n",
        "  }\n",
        "\n",
        "  double local_pi = sum / n;\n",
        "  MPI_Reduce(&local_pi, &pi, 1, MPI_DOUBLE, MPI_SUM, 0, MPI_COMM_WORLD);\n",
        "\n",
        "  if (rank == 0) {\n",
        "    printf(\"pi is approximately %.16f.\\n\", pi);\n",
        "  }\n",
        "\n",
        "  MPI_Finalize();\n",
        "  return 0;\n",
        "}\n"
      ],
      "metadata": {
        "colab": {
          "base_uri": "https://localhost:8080/"
        },
        "id": "uHL9T4vbwTTX",
        "outputId": "5132a85e-8b2a-47f5-e87a-d3968c2895c5"
      },
      "execution_count": null,
      "outputs": [
        {
          "output_type": "stream",
          "name": "stdout",
          "text": [
            "Overwriting mpi_pi.c\n"
          ]
        }
      ]
    },
    {
      "cell_type": "code",
      "source": [
        "!mpicc mpi_pi.c -o mpi_pi\n",
        "!mpirun --allow-run-as-root -np 1 ./mpi_pi\n"
      ],
      "metadata": {
        "colab": {
          "base_uri": "https://localhost:8080/"
        },
        "id": "N-Sk0NKDzcVm",
        "outputId": "03147fc7-dc1a-42a6-a2c2-1545abe13231"
      },
      "execution_count": null,
      "outputs": [
        {
          "output_type": "stream",
          "name": "stdout",
          "text": [
            "pi is approximately 3.1415926535897643.\n"
          ]
        }
      ]
    },
    {
      "cell_type": "markdown",
      "source": [
        "###Advanced MPI program that has a total number of 4 processes, where the process with\n",
        "###rank = 0 should send VJTI letter to all the processes using MPI_Scatter call."
      ],
      "metadata": {
        "id": "qaVlxx1U3hSk"
      }
    },
    {
      "cell_type": "code",
      "source": [
        "%%writefile mpi_vjti.c\n",
        "#include <mpi.h>\n",
        "#include <stdio.h>\n",
        "#include <string.h>\n",
        "\n",
        "#define MESSAGE_SIZE 5\n",
        "\n",
        "int main(int argc, char** argv) {\n",
        "  int rank, size;\n",
        "  char message[MESSAGE_SIZE + 1];\n",
        "\n",
        "  MPI_Init(NULL, NULL);\n",
        "  MPI_Comm_rank(MPI_COMM_WORLD, &rank);\n",
        "  MPI_Comm_size(MPI_COMM_WORLD, &size);\n",
        "\n",
        "  if (rank == 0) {\n",
        "    strcpy(message, \"VJTI\");\n",
        "  }\n",
        "\n",
        "  MPI_Scatter(message, MESSAGE_SIZE, MPI_CHAR, message, MESSAGE_SIZE, MPI_CHAR, 0, MPI_COMM_WORLD);\n",
        "\n",
        "  printf(\"Process %d received message: %s\\n\", rank, message);\n",
        "\n",
        "  MPI_Finalize();\n",
        "  return 0;\n",
        "}\n"
      ],
      "metadata": {
        "colab": {
          "base_uri": "https://localhost:8080/"
        },
        "id": "os0FXJkCwW_U",
        "outputId": "4876832d-6b31-456b-b153-ebd36a0ae06b"
      },
      "execution_count": null,
      "outputs": [
        {
          "output_type": "stream",
          "name": "stdout",
          "text": [
            "Overwriting mpi_vjti.c\n"
          ]
        }
      ]
    },
    {
      "cell_type": "code",
      "source": [
        "!mpicc mpi_vjti.c -o mpi_vjti\n",
        "!mpirun --allow-run-as-root -np 1 ./mpi_vjti\n"
      ],
      "metadata": {
        "colab": {
          "base_uri": "https://localhost:8080/"
        },
        "id": "mWMwYy8TzwsX",
        "outputId": "5d4e824e-538f-43b8-a1d7-8d2e8cfe4fb3"
      },
      "execution_count": null,
      "outputs": [
        {
          "output_type": "stream",
          "name": "stdout",
          "text": [
            "Process 0 received message: VJTI\n"
          ]
        }
      ]
    },
    {
      "cell_type": "markdown",
      "source": [
        "###Task-4: Calculate maximum of array"
      ],
      "metadata": {
        "id": "DL9NhlSv3sPW"
      }
    },
    {
      "cell_type": "code",
      "source": [
        "%%writefile mpi_maximum.c\n",
        "#include <mpi.h>\n",
        "#include <stdio.h>\n",
        "\n",
        "#define ARRAY_SIZE 6\n",
        "\n",
        "int main(int argc, char** argv) {\n",
        "  int rank, size;\n",
        "  int array[ARRAY_SIZE] = {1, 6, 3, 8, 2, 7};\n",
        "  \n",
        "  MPI_Init(NULL, NULL);\n",
        "  MPI_Comm_rank(MPI_COMM_WORLD, &rank);\n",
        "  MPI_Comm_size(MPI_COMM_WORLD, &size);\n",
        "\n",
        "  int local_max = array[rank];\n",
        "  int max;\n",
        "\n",
        "  MPI_Reduce(&local_max, &max, 1, MPI_INT, MPI_MAX, 0, MPI_COMM_WORLD);\n",
        "\n",
        "  if (rank == 0) {\n",
        "    printf(\"The maximum value in the array is: %d\\n\", max);\n",
        "  }\n",
        "\n",
        "  MPI_Finalize();\n",
        "  return 0;\n",
        "}\n"
      ],
      "metadata": {
        "colab": {
          "base_uri": "https://localhost:8080/"
        },
        "id": "6Xozb5mmwcfb",
        "outputId": "fe1aa58e-66f5-4726-e5f1-5f0724a14a0f"
      },
      "execution_count": null,
      "outputs": [
        {
          "output_type": "stream",
          "name": "stdout",
          "text": [
            "Overwriting mpi_maximum.c\n"
          ]
        }
      ]
    },
    {
      "cell_type": "code",
      "source": [
        "!mpicc mpi_maximumm.c -o mpi_maximum\n",
        "!mpirun --allow-run-as-root -np 1 ./mpi_maximum"
      ],
      "metadata": {
        "colab": {
          "base_uri": "https://localhost:8080/"
        },
        "id": "qaVIXGqUz_8f",
        "outputId": "f84bdba4-97f3-43e5-f6e7-eceadf3dbf84"
      },
      "execution_count": null,
      "outputs": [
        {
          "output_type": "stream",
          "name": "stdout",
          "text": [
            "--------------------------------------------------------------------------\n",
            "Primary job  terminated normally, but 1 process returned\n",
            "a non-zero exit code. Per user-direction, the job has been aborted.\n",
            "--------------------------------------------------------------------------\n",
            "--------------------------------------------------------------------------\n",
            "mpirun noticed that process rank 0 with PID 0 on node 3342d2aed770 exited on signal 11 (Segmentation fault).\n",
            "--------------------------------------------------------------------------\n"
          ]
        }
      ]
    },
    {
      "cell_type": "markdown",
      "source": [
        "###Task-5: Ring Topology"
      ],
      "metadata": {
        "id": "S5pdwDQu3zCo"
      }
    },
    {
      "cell_type": "code",
      "source": [
        "%%writefile mpi_ring.c\n",
        "#include <mpi.h>\n",
        "#include <stdio.h>\n",
        "\n",
        "int main(int argc, char** argv) {\n",
        "  int rank, size;\n",
        "  int message_in, message_out;\n",
        "\n",
        "  MPI_Init(NULL, NULL);\n",
        "  MPI_Comm_rank(MPI_COMM_WORLD, &rank);\n",
        "  MPI_Comm_size(MPI_COMM_WORLD, &size);\n",
        "\n",
        "  if (rank == 0) {\n",
        "    message_out = 1;\n",
        "    MPI_Send(&message_out, 1, MPI_INT, (rank + 1) % size, 0, MPI_COMM_WORLD);\n",
        "    MPI_Recv(&message_in, 1, MPI_INT, size - 1, 0, MPI_COMM_WORLD, MPI_STATUS_IGNORE);\n",
        "    printf(\"Process %d received message %d from process %d.\\n\", rank, message_in, size - 1);\n",
        "  } else {\n",
        "    MPI_Recv(&message_in, 1, MPI_INT, rank - 1, 0, MPI_COMM_WORLD, MPI_STATUS_IGNORE);\n",
        "    printf(\"Process %d received message %d from process %d.\\n\", rank, message_in, rank - 1);\n",
        "    if (rank == size - 1) {\n",
        "      message_out = 0;\n",
        "    } else {\n",
        "      message_out = message_in + 1;\n",
        "    }\n",
        "    MPI_Send(&message_out, 1, MPI_INT, (rank + 1) % size, 0, MPI_COMM_WORLD);\n",
        "  }\n",
        "\n",
        "  MPI_Finalize();\n",
        "  return 0;\n",
        "}\n"
      ],
      "metadata": {
        "colab": {
          "base_uri": "https://localhost:8080/"
        },
        "id": "yEkIPD6zwdXt",
        "outputId": "991b9544-b939-4b1d-8735-9800c3af379f"
      },
      "execution_count": null,
      "outputs": [
        {
          "output_type": "stream",
          "name": "stdout",
          "text": [
            "Overwriting mpi_ring.c\n"
          ]
        }
      ]
    },
    {
      "cell_type": "code",
      "source": [
        "!mpicc mpi_ring.c -o mpi_ring\n",
        "!mpirun --allow-run-as-root -np 1 ./mpi_ring"
      ],
      "metadata": {
        "colab": {
          "base_uri": "https://localhost:8080/"
        },
        "id": "abSN0lvM2WIs",
        "outputId": "16c259bc-a336-49f1-d863-300258f812dd"
      },
      "execution_count": null,
      "outputs": [
        {
          "output_type": "stream",
          "name": "stdout",
          "text": [
            "Process 0 received message 1 from process 0.\n"
          ]
        }
      ]
    },
    {
      "cell_type": "code",
      "source": [],
      "metadata": {
        "id": "2Jme5PFE2bpT"
      },
      "execution_count": null,
      "outputs": []
    }
  ]
}