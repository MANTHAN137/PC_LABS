{
  "nbformat": 4,
  "nbformat_minor": 0,
  "metadata": {
    "colab": {
      "provenance": []
    },
    "kernelspec": {
      "name": "python3",
      "display_name": "Python 3"
    },
    "language_info": {
      "name": "python"
    },
    "accelerator": "GPU",
    "gpuClass": "standard"
  },
  "cells": [
    {
      "cell_type": "code",
      "execution_count": null,
      "metadata": {
        "id": "iCXgZvBINC2A",
        "colab": {
          "base_uri": "https://localhost:8080/"
        },
        "outputId": "e7154776-8114-423c-bc20-62932d977fba"
      },
      "outputs": [
        {
          "output_type": "stream",
          "name": "stdout",
          "text": [
            "nvcc: NVIDIA (R) Cuda compiler driver\n",
            "Copyright (c) 2005-2022 NVIDIA Corporation\n",
            "Built on Wed_Sep_21_10:33:58_PDT_2022\n",
            "Cuda compilation tools, release 11.8, V11.8.89\n",
            "Build cuda_11.8.r11.8/compiler.31833905_0\n"
          ]
        }
      ],
      "source": [
        "!nvcc --version"
      ]
    },
    {
      "cell_type": "markdown",
      "source": [],
      "metadata": {
        "id": "sPnXevTny4mx"
      }
    },
    {
      "cell_type": "code",
      "source": [
        "!pip install git+https://github.com/andreinechaev/nvcc4jupyter.git"
      ],
      "metadata": {
        "id": "Tbg3IWuBNSzb",
        "colab": {
          "base_uri": "https://localhost:8080/"
        },
        "outputId": "57f9cb55-0b27-48de-f6ae-ce6c2ab80a87"
      },
      "execution_count": null,
      "outputs": [
        {
          "output_type": "stream",
          "name": "stdout",
          "text": [
            "Looking in indexes: https://pypi.org/simple, https://us-python.pkg.dev/colab-wheels/public/simple/\n",
            "Collecting git+https://github.com/andreinechaev/nvcc4jupyter.git\n",
            "  Cloning https://github.com/andreinechaev/nvcc4jupyter.git to /tmp/pip-req-build-dvpl1gtu\n",
            "  Running command git clone --filter=blob:none --quiet https://github.com/andreinechaev/nvcc4jupyter.git /tmp/pip-req-build-dvpl1gtu\n",
            "  Resolved https://github.com/andreinechaev/nvcc4jupyter.git to commit aac710a35f52bb78ab34d2e52517237941399eff\n",
            "  Preparing metadata (setup.py) ... \u001b[?25l\u001b[?25hdone\n",
            "Building wheels for collected packages: NVCCPlugin\n",
            "  Building wheel for NVCCPlugin (setup.py) ... \u001b[?25l\u001b[?25hdone\n",
            "  Created wheel for NVCCPlugin: filename=NVCCPlugin-0.0.2-py3-none-any.whl size=4305 sha256=9363c232d33f30eea21d98a4a0340448226fdd47adbc760e23b25ec3de32a4f0\n",
            "  Stored in directory: /tmp/pip-ephem-wheel-cache-xwtydf9r/wheels/db/c1/1f/a2bb07bbb4a1ce3c43921252aeafaa6205f08637e292496f04\n",
            "Successfully built NVCCPlugin\n",
            "Installing collected packages: NVCCPlugin\n",
            "Successfully installed NVCCPlugin-0.0.2\n"
          ]
        }
      ]
    },
    {
      "cell_type": "code",
      "source": [
        "%load_ext nvcc_plugin"
      ],
      "metadata": {
        "id": "VivoF4nwNTEW",
        "colab": {
          "base_uri": "https://localhost:8080/"
        },
        "outputId": "3ae76646-ba3d-457a-e8c5-53fee3817e7e"
      },
      "execution_count": null,
      "outputs": [
        {
          "output_type": "stream",
          "name": "stdout",
          "text": [
            "created output directory at /content/src\n",
            "Out bin /content/result.out\n"
          ]
        }
      ]
    },
    {
      "cell_type": "code",
      "source": [
        "# Implement Parallel Traveling Salesman Problem using OpenMP"
      ],
      "metadata": {
        "id": "3kvIdL_0NTLd"
      },
      "execution_count": null,
      "outputs": []
    },
    {
      "cell_type": "code",
      "source": [
        "code = \"\"\"\n",
        "#include <stdio.h>\n",
        "#include <stdlib.h>\n",
        "#include <limits.h>\n",
        "#include <omp.h>\n",
        "\n",
        "#define MAX_N 16\n",
        "\n",
        "int n;\n",
        "int dist[MAX_N][MAX_N];\n",
        "\n",
        "int visited[MAX_N];\n",
        "int curr_path[MAX_N];\n",
        "int min_path[MAX_N];\n",
        "int min_cost = INT_MAX;\n",
        "\n",
        "void tsp(int curr_cost, int curr_pos, int level)\n",
        "{\n",
        "    if (level == n) {\n",
        "        // Visited all cities\n",
        "        curr_cost += dist[curr_pos][0];\n",
        "        if (curr_cost < min_cost) {\n",
        "            min_cost = curr_cost;\n",
        "            #pragma omp critical\n",
        "            {\n",
        "                for (int i = 0; i < n; i++) {\n",
        "                    min_path[i] = curr_path[i];\n",
        "                }\n",
        "            }\n",
        "        }\n",
        "        return;\n",
        "    }\n",
        "    for (int i = 1; i < n; i++) {\n",
        "        if (!visited[i]) {\n",
        "            visited[i] = 1;\n",
        "            curr_path[level] = i;\n",
        "            tsp(curr_cost + dist[curr_pos][i], i, level + 1);\n",
        "            visited[i] = 0;\n",
        "        }\n",
        "    }\n",
        "}\n",
        "\n",
        "int main()\n",
        "{\n",
        "    printf(\"Enter the number of cities: \");\n",
        "    scanf(\"%d\", &n);\n",
        "\n",
        "    printf(\"Enter the distances between the cities:\\\\n\");\n",
        "    for (int i = 0; i < n; i++) {\n",
        "        for (int j = 0; j < n; j++) {\n",
        "            scanf(\"%d\", &dist[i][j]);\n",
        "        }\n",
        "    }\n",
        "\n",
        "    visited[0] = 1;\n",
        "    curr_path[0] = 0;\n",
        "    tsp(0, 0, 1);\n",
        "\n",
        "    printf(\"Path: %d\", min_path[0] + 1);\n",
        "    for (int i = 1; i < n; i++) {\n",
        "        printf(\"->%d\", min_path[i] + 1);\n",
        "    }\n",
        "    printf(\"->%d\\\\n\", min_path[0] + 1);\n",
        "    printf(\"Minimum Cost/Minimum weight Hamiltonian Cycle: %d\\\\n\", min_cost);\n",
        "\n",
        "    return 0;\n",
        "}\n",
        "\n",
        "\n",
        "\n",
        "\"\"\""
      ],
      "metadata": {
        "id": "5h6TyDYDNTSH"
      },
      "execution_count": null,
      "outputs": []
    },
    {
      "cell_type": "code",
      "source": [
        "text_file = open(\"travel_salesman.c\",\"w\")\n",
        "text_file.write(code)\n",
        "text_file.close()"
      ],
      "metadata": {
        "id": "OQLn86TGQsJm"
      },
      "execution_count": null,
      "outputs": []
    },
    {
      "cell_type": "code",
      "source": [
        "!gcc -o Travelling_salesman -fopenmp travel_salesman.c"
      ],
      "metadata": {
        "id": "I04Pj8r_NT7a"
      },
      "execution_count": null,
      "outputs": []
    },
    {
      "cell_type": "code",
      "source": [
        "!./Travelling_salesman"
      ],
      "metadata": {
        "id": "JkflOX8uBvhw",
        "colab": {
          "base_uri": "https://localhost:8080/"
        },
        "outputId": "c9b558e2-713c-4863-959d-69012d9a8621"
      },
      "execution_count": null,
      "outputs": [
        {
          "output_type": "stream",
          "name": "stdout",
          "text": [
            "Enter the number of cities: 3\n",
            "Enter the distances between the cities:\n",
            "3\n",
            "5\n",
            "2\n",
            "55\n",
            "6\n",
            "2\n",
            "66\n",
            "2\n",
            "4\n",
            "Path: 1->3->2->1\n",
            "Minimum Cost/Minimum weight Hamiltonian Cycle: 59\n"
          ]
        }
      ]
    },
    {
      "cell_type": "code",
      "source": [],
      "metadata": {
        "id": "KgNXE4ubXmIp"
      },
      "execution_count": null,
      "outputs": []
    }
  ]
}