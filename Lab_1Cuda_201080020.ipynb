{
  "nbformat": 4,
  "nbformat_minor": 0,
  "metadata": {
    "colab": {
      "provenance": []
    },
    "kernelspec": {
      "name": "python3",
      "display_name": "Python 3"
    },
    "language_info": {
      "name": "python"
    },
    "accelerator": "GPU",
    "gpuClass": "standard"
  },
  "cells": [
    {
      "cell_type": "code",
      "source": [
        "!nvcc --version"
      ],
      "metadata": {
        "id": "Chi96XtmU85W",
        "outputId": "500e54d2-481d-4ced-ba37-c16b08bfef83",
        "colab": {
          "base_uri": "https://localhost:8080/"
        }
      },
      "execution_count": null,
      "outputs": [
        {
          "output_type": "stream",
          "name": "stdout",
          "text": [
            "nvcc: NVIDIA (R) Cuda compiler driver\n",
            "Copyright (c) 2005-2021 NVIDIA Corporation\n",
            "Built on Sun_Feb_14_21:12:58_PST_2021\n",
            "Cuda compilation tools, release 11.2, V11.2.152\n",
            "Build cuda_11.2.r11.2/compiler.29618528_0\n"
          ]
        }
      ]
    },
    {
      "cell_type": "code",
      "source": [
        "!pip install git+https://github.com/andreinechaev/nvcc4jupyter.git"
      ],
      "metadata": {
        "colab": {
          "base_uri": "https://localhost:8080/"
        },
        "id": "FjC-4rJfhNFU",
        "outputId": "467b4466-6c2d-44d7-8acc-e016923a07bf"
      },
      "execution_count": null,
      "outputs": [
        {
          "output_type": "stream",
          "name": "stdout",
          "text": [
            "Looking in indexes: https://pypi.org/simple, https://us-python.pkg.dev/colab-wheels/public/simple/\n",
            "Collecting git+https://github.com/andreinechaev/nvcc4jupyter.git\n",
            "  Cloning https://github.com/andreinechaev/nvcc4jupyter.git to /tmp/pip-req-build-yrnvxw1i\n",
            "  Running command git clone --filter=blob:none --quiet https://github.com/andreinechaev/nvcc4jupyter.git /tmp/pip-req-build-yrnvxw1i\n",
            "  Resolved https://github.com/andreinechaev/nvcc4jupyter.git to commit aac710a35f52bb78ab34d2e52517237941399eff\n",
            "  Preparing metadata (setup.py) ... \u001b[?25l\u001b[?25hdone\n",
            "Building wheels for collected packages: NVCCPlugin\n",
            "  Building wheel for NVCCPlugin (setup.py) ... \u001b[?25l\u001b[?25hdone\n",
            "  Created wheel for NVCCPlugin: filename=NVCCPlugin-0.0.2-py3-none-any.whl size=4304 sha256=6324be187f1a12d823c7070ba5599ce442a72ab457969e1c1b70fb8be365369c\n",
            "  Stored in directory: /tmp/pip-ephem-wheel-cache-u54ee6vn/wheels/f3/08/cc/e2b5b0e1c92df07dbb50a6f024a68ce090f5e7b2316b41756d\n",
            "Successfully built NVCCPlugin\n",
            "Installing collected packages: NVCCPlugin\n",
            "Successfully installed NVCCPlugin-0.0.2\n"
          ]
        }
      ]
    },
    {
      "cell_type": "code",
      "source": [
        "%load_ext nvcc_plugin"
      ],
      "metadata": {
        "colab": {
          "base_uri": "https://localhost:8080/"
        },
        "id": "aYvpGR83hVKT",
        "outputId": "0a7b360f-324f-40d1-89a3-6ebaf1d225ea"
      },
      "execution_count": null,
      "outputs": [
        {
          "output_type": "stream",
          "name": "stdout",
          "text": [
            "created output directory at /content/src\n",
            "Out bin /content/result.out\n"
          ]
        }
      ]
    },
    {
      "cell_type": "code",
      "source": [
        "%%cu\n",
        "#include <iostream>\n",
        "using namespace std;\n",
        "int main()\n",
        "{\n",
        "\tcout << \"Welcome To GeeksforGeeks\"<<endl<<1;\n",
        "\treturn 0;\n",
        "}\n"
      ],
      "metadata": {
        "colab": {
          "base_uri": "https://localhost:8080/"
        },
        "id": "dlG2b4Hjh1Zz",
        "outputId": "35d0231d-c886-4342-f86a-5bd928345e1f"
      },
      "execution_count": null,
      "outputs": [
        {
          "output_type": "stream",
          "name": "stdout",
          "text": [
            "Welcome To GeeksforGeeks\n",
            "1\n"
          ]
        }
      ]
    },
    {
      "cell_type": "code",
      "source": [
        "%%cu\n",
        "#include <iostream>\n",
        "#include <cstdio>\n",
        "\n",
        "using namespace std;\n",
        "__global__ void add(int *a,int *b,int *c){\n",
        "    *c=*a+*b;\n",
        "}\n",
        "\n",
        "int main(){\n",
        "    int a,b,c; // host copies of a, b, c\n",
        "    int *d_a,*d_b,*d_c; // device copies of a, b, c\n",
        "    int size=sizeof(int);\n",
        "\n",
        "    // Allocate space for device copies of a, b, c\n",
        "    cudaMalloc((void **)&d_a,size);\n",
        "    cudaMalloc((void **)&d_b,size);\n",
        "    cudaMalloc((void **)&d_c,size);\n",
        "\n",
        "    a=10,b=3;\n",
        "\n",
        "    // Copy inputs to device\n",
        "    cudaMemcpy(d_a,&a,size,cudaMemcpyHostToDevice);\n",
        "    cudaMemcpy(d_b,&b,size,cudaMemcpyHostToDevice);\n",
        "\n",
        "    // Launch add() kernel on GPU\n",
        "    add<<<1,1>>>(d_a,d_b,d_c);\n",
        "\n",
        "    // Copy result back to host\n",
        "    cudaMemcpy(&c,d_c,size,cudaMemcpyDeviceToHost);\n",
        "\n",
        "    cout<<c<<endl;\n",
        "\n",
        "    //Free the space\n",
        "    cudaFree(d_a);\n",
        "    cudaFree(d_b);\n",
        "    cudaFree(d_c);\n",
        "\n",
        "    return 0;\n",
        "}"
      ],
      "metadata": {
        "colab": {
          "base_uri": "https://localhost:8080/"
        },
        "id": "uJHx9TvUVtLU",
        "outputId": "a7676e5c-1b57-44ac-89d1-4ca75a43719f"
      },
      "execution_count": null,
      "outputs": [
        {
          "output_type": "stream",
          "name": "stdout",
          "text": [
            "13\n",
            "\n"
          ]
        }
      ]
    },
    {
      "cell_type": "code",
      "source": [
        "%%cu\n",
        "#include \"stdio.h\"\n",
        "#include <iostream>\n",
        "\n",
        "using namespace std;\n",
        "\n",
        "// Defining number of elements in Array\n",
        "#define N 10\n",
        "\n",
        "__global__ void add(int *a,int *b,int *c){\n",
        "    int i=blockIdx.x * blockDim.x + threadIdx.x;\n",
        "\n",
        "    if(i<N){\n",
        "        c[i]=a[i]+b[i];\n",
        "    }\n",
        "}\n",
        "\n",
        "int main(){\n",
        "    int h_a[N],h_b[N],h_c[N];\n",
        "\n",
        "    int *d_a,*d_b,*d_c;\n",
        "\n",
        "    cudaMalloc((void**)&d_a,N * sizeof(int));\n",
        "    cudaMalloc((void**)&d_b,N * sizeof(int));\n",
        "    cudaMalloc((void**)&d_c,N * sizeof(int));\n",
        "    \n",
        "    for (int i = 0; i < N; i++) {\n",
        "        h_a[i] = 10;\n",
        "        h_b[i] = 2 ;\n",
        "    }\n",
        "\n",
        "    cudaMemcpy(d_a,h_a,N * sizeof(int),cudaMemcpyHostToDevice);\n",
        "    cudaMemcpy(d_b,h_b,N * sizeof(int),cudaMemcpyHostToDevice);\n",
        "\n",
        "    add<<<N/2,2>>>(d_a,d_b,d_c);\n",
        "\n",
        "    cudaMemcpy(h_c,d_c,N * sizeof(int),cudaMemcpyDeviceToHost);\n",
        "\n",
        "    for (int i = 0; i < N; i++) {\n",
        "        printf(\"%d\\n\",h_c[i]);\n",
        "    }\n",
        "    \n",
        "    return 0;\n",
        "}"
      ],
      "metadata": {
        "colab": {
          "base_uri": "https://localhost:8080/"
        },
        "id": "1WuM8NZjdVsn",
        "outputId": "8c657e76-c4d6-4915-b044-294d48fd858c"
      },
      "execution_count": null,
      "outputs": [
        {
          "output_type": "stream",
          "name": "stdout",
          "text": [
            "12\n",
            "12\n",
            "12\n",
            "12\n",
            "12\n",
            "12\n",
            "12\n",
            "12\n",
            "12\n",
            "12\n",
            "\n"
          ]
        }
      ]
    },
    {
      "cell_type": "markdown",
      "source": [
        "## Addition of Matrix"
      ],
      "metadata": {
        "id": "bNY5G1QCMl-1"
      }
    },
    {
      "cell_type": "code",
      "source": [
        "%%cu\n",
        "#include <stdio.h>\n",
        "#include <stdlib.h>\n",
        "\n",
        "#define N 5\n",
        "#define BLOCK_DIM 10\n",
        "\n",
        "__global__ void matrixAdd (int *a, int *b, int *c) {\n",
        "    int col = blockIdx.x * blockDim.x + threadIdx.x;\n",
        "    int row = blockIdx.y * blockDim.y + threadIdx.y;\n",
        "\n",
        "    int index = col + row * N;\n",
        "\n",
        "    if (col < N && row < N) {\n",
        "        c[index] = a[index] + b[index];\n",
        "    }\n",
        "\n",
        "}\n",
        "\n",
        "int main() {\n",
        "    int a[N][N], b[N][N], c[N][N];\n",
        "    int *dev_a, *dev_b, *dev_c;\n",
        "\n",
        "    int size = N * N * sizeof(int);\n",
        "\n",
        "    for(int i=0; i<N; i++)\n",
        "        for (int j=0; j<N; j++){\n",
        "            a[i][j] = 10;\n",
        "            b[i][j] = 2;\n",
        "        }\n",
        "\n",
        "    cudaMalloc((void**)&dev_a, size);\n",
        "    cudaMalloc((void**)&dev_b, size);\n",
        "    cudaMalloc((void**)&dev_c, size);\n",
        "\n",
        "    cudaMemcpy(dev_a, a, size, cudaMemcpyHostToDevice);\n",
        "    cudaMemcpy(dev_b, b, size, cudaMemcpyHostToDevice);\n",
        "\n",
        "    dim3 dimBlock(BLOCK_DIM, BLOCK_DIM);\n",
        "    //dim3 dimGrid((int)ceil(N/dimBlock.x),(int)ceil(N/dimBlock.y));\n",
        "    dim3 dimGrid((N+dimBlock.x-1)/dimBlock.x, (N+dimBlock.y-1)/dimBlock.y);\n",
        "    printf(\"dimGrid.x = %d, dimGrid.y = %d\\n\", dimGrid.x, dimGrid.y);\n",
        "    matrixAdd<<<dimGrid,dimBlock>>>(dev_a,dev_b,dev_c);\n",
        "    cudaMemcpy(c, dev_c, size, cudaMemcpyDeviceToHost);\n",
        "    printf(\"Matrix a is:\\n\");\n",
        "    for(int i=0; i<N; i++){\n",
        "        for (int j=0; j<N; j++){\n",
        "            printf(\"%d\\t\", a[i][j] );\n",
        "        }\n",
        "        printf(\"\\n\");\n",
        "    }\n",
        "\n",
        "    printf(\"Matrix b is:\\n\");\n",
        "    for(int i=0; i<N; i++){\n",
        "        for (int j=0; j<N; j++){\n",
        "            printf(\"%d\\t\", b[i][j] );\n",
        "        }\n",
        "        printf(\"\\n\");\n",
        "    }\n",
        "\n",
        "    printf(\"Result after a*b is:\\n\");\n",
        "    for(int i=0; i<N; i++){\n",
        "        for (int j=0; j<N; j++){\n",
        "            printf(\"%d\\t\", c[i][j] );\n",
        "        }\n",
        "        printf(\"\\n\");\n",
        "    }\n",
        "\n",
        "\n",
        "    cudaFree(dev_a);\n",
        "    cudaFree(dev_b);\n",
        "    cudaFree(dev_c);\n",
        "}"
      ],
      "metadata": {
        "id": "r8UxDVl_Nii4",
        "colab": {
          "base_uri": "https://localhost:8080/"
        },
        "outputId": "e62e85d2-d11f-4005-b0db-458dacbe772d"
      },
      "execution_count": null,
      "outputs": [
        {
          "output_type": "stream",
          "name": "stdout",
          "text": [
            "dimGrid.x = 1, dimGrid.y = 1\n",
            "Matrix a is:\n",
            "10\t10\t10\t10\t10\t\n",
            "10\t10\t10\t10\t10\t\n",
            "10\t10\t10\t10\t10\t\n",
            "10\t10\t10\t10\t10\t\n",
            "10\t10\t10\t10\t10\t\n",
            "Matrix b is:\n",
            "2\t2\t2\t2\t2\t\n",
            "2\t2\t2\t2\t2\t\n",
            "2\t2\t2\t2\t2\t\n",
            "2\t2\t2\t2\t2\t\n",
            "2\t2\t2\t2\t2\t\n",
            "Result after a*b is:\n",
            "12\t12\t12\t12\t12\t\n",
            "12\t12\t12\t12\t12\t\n",
            "12\t12\t12\t12\t12\t\n",
            "12\t12\t12\t12\t12\t\n",
            "12\t12\t12\t12\t12\t\n",
            "\n"
          ]
        }
      ]
    },
    {
      "cell_type": "markdown",
      "source": [
        "## Multiplication of Matrix"
      ],
      "metadata": {
        "id": "XZ0NUb67NXk8"
      }
    },
    {
      "cell_type": "code",
      "source": [
        "%%cu\n",
        "#include <stdio.h>\n",
        "#include <stdlib.h>\n",
        "\n",
        "#define N 5\n",
        "#define BLOCK_DIM 10\n",
        "\n",
        "__global__ void matrixMult (int *a, int *b, int *c) {\n",
        "    int col = blockIdx.x * blockDim.x + threadIdx.x;\n",
        "    int row = blockIdx.y * blockDim.y + threadIdx.y;\n",
        "\n",
        "    \n",
        "\n",
        "    if (col < N && row < N) {\n",
        "        int tempSum=0;\n",
        "\n",
        "        for(int i=0;i<N;i++){\n",
        "            tempSum += a[row * N + i] * b[i * N + col];\n",
        "        }\n",
        "\n",
        "        c[row * N + col] = tempSum;\n",
        "    }\n",
        "\n",
        "}\n",
        "\n",
        "int main() {\n",
        "    int a[N][N], b[N][N], c[N][N];\n",
        "    int *dev_a, *dev_b, *dev_c;\n",
        "\n",
        "    int size = N * N * sizeof(int);\n",
        "\n",
        "    for(int i=0; i<N; i++)\n",
        "        for (int j=0; j<N; j++){\n",
        "            a[i][j] = 3;\n",
        "            b[i][j] = 2;\n",
        "        }\n",
        "\n",
        "    cudaMalloc((void**)&dev_a, size);\n",
        "    cudaMalloc((void**)&dev_b, size);\n",
        "    cudaMalloc((void**)&dev_c, size);\n",
        "\n",
        "    cudaMemcpy(dev_a, a, size, cudaMemcpyHostToDevice);\n",
        "    cudaMemcpy(dev_b, b, size, cudaMemcpyHostToDevice);\n",
        "\n",
        "    dim3 dimBlock(BLOCK_DIM, BLOCK_DIM);\n",
        "    //dim3 dimGrid((int)ceil(N/dimBlock.x),(int)ceil(N/dimBlock.y));\n",
        "    dim3 dimGrid((N+dimBlock.x-1)/dimBlock.x, (N+dimBlock.y-1)/dimBlock.y);\n",
        "    printf(\"dimGrid.x = %d, dimGrid.y = %d\\n\", dimGrid.x, dimGrid.y);\n",
        "    matrixMult<<<dimGrid,dimBlock>>>(dev_a,dev_b,dev_c);\n",
        "    cudaMemcpy(c, dev_c, size, cudaMemcpyDeviceToHost);\n",
        "    printf(\"Matrix x :\\n\");\n",
        "    for(int i=0; i<N; i++){\n",
        "        for (int j=0; j<N; j++){\n",
        "            printf(\"%d\\t\", a[i][j] );\n",
        "        }\n",
        "        printf(\"\\n\");\n",
        "    }\n",
        "\n",
        "    printf(\"Matrix y :\\n\");\n",
        "    for(int i=0; i<N; i++){\n",
        "        for (int j=0; j<N; j++){\n",
        "            printf(\"%d\\t\", b[i][j] );\n",
        "        }\n",
        "        printf(\"\\n\");\n",
        "    }\n",
        "\n",
        "    printf(\"Result after x*y :\\n\");\n",
        "    for(int i=0; i<N; i++){\n",
        "        for (int j=0; j<N; j++){\n",
        "            printf(\"%d\\t\", c[i][j] );\n",
        "        }\n",
        "        printf(\"\\n\");\n",
        "    }\n",
        "\n",
        "\n",
        "    cudaFree(dev_a);\n",
        "    cudaFree(dev_b);\n",
        "    cudaFree(dev_c);\n",
        "}"
      ],
      "metadata": {
        "id": "oS9E3tFOOX3e",
        "colab": {
          "base_uri": "https://localhost:8080/"
        },
        "outputId": "69aba9e0-cb2c-431a-cd8b-8a1d6169851e"
      },
      "execution_count": null,
      "outputs": [
        {
          "output_type": "stream",
          "name": "stdout",
          "text": [
            "dimGrid.x = 1, dimGrid.y = 1\n",
            "Matrix x :\n",
            "3\t3\t3\t3\t3\t\n",
            "3\t3\t3\t3\t3\t\n",
            "3\t3\t3\t3\t3\t\n",
            "3\t3\t3\t3\t3\t\n",
            "3\t3\t3\t3\t3\t\n",
            "Matrix y :\n",
            "2\t2\t2\t2\t2\t\n",
            "2\t2\t2\t2\t2\t\n",
            "2\t2\t2\t2\t2\t\n",
            "2\t2\t2\t2\t2\t\n",
            "2\t2\t2\t2\t2\t\n",
            "Result after x*y :\n",
            "30\t30\t30\t30\t30\t\n",
            "30\t30\t30\t30\t30\t\n",
            "30\t30\t30\t30\t30\t\n",
            "30\t30\t30\t30\t30\t\n",
            "30\t30\t30\t30\t30\t\n",
            "\n"
          ]
        }
      ]
    },
    {
      "cell_type": "code",
      "source": [
        "%%cu\n",
        "#include <stdio.h>\n",
        "#include <stdlib.h>\n",
        "\n",
        "#define N 5\n",
        "#define BLOCK_DIM 10\n",
        "\n",
        "__global__ void matrixTrans(int *ain, int *aout) {\n",
        "    int col = blockIdx.x * blockDim.x + threadIdx.x;\n",
        "    int row = blockIdx.y * blockDim.y + threadIdx.y;\n",
        "\n",
        "    \n",
        "\n",
        "    if (col < N && row < N) {\n",
        "        aout[col*N+row]=ain[row*N+col];\n",
        "    }\n",
        "\n",
        "}\n",
        "\n",
        "int main() {\n",
        "    int a_in[N][N], a_out[N][N];;\n",
        "    int *dev_ain, *dev_aout;\n",
        "\n",
        "    int size = N * N * sizeof(int);\n",
        "\n",
        "    for(int i=0; i<N; i++)\n",
        "        for (int j=0; j<N; j++){\n",
        "            a_in[i][j] = i*i+j+1;\n",
        "        }\n",
        "\n",
        "    cudaMalloc((void**)&dev_ain, size);\n",
        "    cudaMalloc((void**)&dev_aout, size);\n",
        "\n",
        "    cudaMemcpy(dev_ain, a_in, size, cudaMemcpyHostToDevice);\n",
        "    cudaMemcpy(dev_aout, a_out, size, cudaMemcpyHostToDevice);\n",
        "\n",
        "    dim3 dimBlock(BLOCK_DIM, BLOCK_DIM);\n",
        "    //dim3 dimGrid((int)ceil(N/dimBlock.x),(int)ceil(N/dimBlock.y));\n",
        "    dim3 dimGrid((N+dimBlock.x-1)/dimBlock.x, (N+dimBlock.y-1)/dimBlock.y);\n",
        "    printf(\"dimGrid.x = %d, dimGrid.y = %d\\n\", dimGrid.x, dimGrid.y);\n",
        "    matrixTrans<<<dimGrid,dimBlock>>>(dev_ain,dev_aout);\n",
        "    cudaMemcpy(a_out, dev_aout, size, cudaMemcpyDeviceToHost);\n",
        "    printf(\"Input Matrix is:\\n\");\n",
        "    for(int i=0; i<N; i++){\n",
        "        for (int j=0; j<N; j++){\n",
        "            printf(\"%d\\t\", a_in[i][j] );\n",
        "        }\n",
        "        printf(\"\\n\");\n",
        "    }\n",
        "\n",
        "    printf(\"Transpose Matrix is:\\n\");\n",
        "    for(int i=0; i<N; i++){\n",
        "        for (int j=0; j<N; j++){\n",
        "            printf(\"%d\\t\", a_out[i][j] );\n",
        "        }\n",
        "        printf(\"\\n\");\n",
        "    }\n",
        "\n",
        "}"
      ],
      "metadata": {
        "colab": {
          "base_uri": "https://localhost:8080/"
        },
        "id": "OqqTJufznxFb",
        "outputId": "3182800c-c3c5-4397-ca79-52130d045f11"
      },
      "execution_count": null,
      "outputs": [
        {
          "output_type": "stream",
          "name": "stdout",
          "text": [
            "dimGrid.x = 1, dimGrid.y = 1\n",
            "Input Matrix is:\n",
            "1\t2\t3\t4\t5\t\n",
            "2\t3\t4\t5\t6\t\n",
            "5\t6\t7\t8\t9\t\n",
            "10\t11\t12\t13\t14\t\n",
            "17\t18\t19\t20\t21\t\n",
            "Transpose Matrix is:\n",
            "1\t2\t5\t10\t17\t\n",
            "2\t3\t6\t11\t18\t\n",
            "3\t4\t7\t12\t19\t\n",
            "4\t5\t8\t13\t20\t\n",
            "5\t6\t9\t14\t21\t\n",
            "\n"
          ]
        }
      ]
    }
  ]
}