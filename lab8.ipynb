{
  "nbformat": 4,
  "nbformat_minor": 0,
  "metadata": {
    "colab": {
      "provenance": []
    },
    "kernelspec": {
      "name": "python3",
      "display_name": "Python 3"
    },
    "language_info": {
      "name": "python"
    },
    "accelerator": "GPU",
    "gpuClass": "standard"
  },
  "cells": [
    {
      "cell_type": "code",
      "execution_count": 1,
      "metadata": {
        "colab": {
          "base_uri": "https://localhost:8080/"
        },
        "id": "IeiCpE50CxU6",
        "outputId": "b48b8df5-bfb0-42a1-c9c9-425801ea2515"
      },
      "outputs": [
        {
          "output_type": "stream",
          "name": "stdout",
          "text": [
            "\r0% [Working]\r            \rGet:1 https://cloud.r-project.org/bin/linux/ubuntu focal-cran40/ InRelease [3,622 B]\n",
            "Get:2 https://developer.download.nvidia.com/compute/cuda/repos/ubuntu2004/x86_64  InRelease [1,581 B]\n",
            "Hit:3 http://ppa.launchpad.net/c2d4u.team/c2d4u4.0+/ubuntu focal InRelease\n",
            "Hit:4 http://archive.ubuntu.com/ubuntu focal InRelease\n",
            "Get:5 http://security.ubuntu.com/ubuntu focal-security InRelease [114 kB]\n",
            "Get:6 http://archive.ubuntu.com/ubuntu focal-updates InRelease [114 kB]\n",
            "Hit:7 http://ppa.launchpad.net/cran/libgit2/ubuntu focal InRelease\n",
            "Get:8 https://developer.download.nvidia.com/compute/cuda/repos/ubuntu2004/x86_64  Packages [1,007 kB]\n",
            "Hit:9 http://ppa.launchpad.net/deadsnakes/ppa/ubuntu focal InRelease\n",
            "Get:10 http://archive.ubuntu.com/ubuntu focal-backports InRelease [108 kB]\n",
            "Hit:11 http://ppa.launchpad.net/graphics-drivers/ppa/ubuntu focal InRelease\n",
            "Get:12 http://security.ubuntu.com/ubuntu focal-security/main amd64 Packages [2,668 kB]\n",
            "Hit:13 http://ppa.launchpad.net/ubuntugis/ppa/ubuntu focal InRelease\n",
            "Get:14 http://archive.ubuntu.com/ubuntu focal-updates/main amd64 Packages [3,150 kB]\n",
            "Fetched 7,166 kB in 3s (2,792 kB/s)\n",
            "Reading package lists... Done\n",
            "Reading package lists... Done\n",
            "Building dependency tree       \n",
            "Reading state information... Done\n",
            "libopenmpi-dev is already the newest version (4.0.3-0ubuntu1).\n",
            "openmpi-bin is already the newest version (4.0.3-0ubuntu1).\n",
            "openmpi-bin set to manually installed.\n",
            "0 upgraded, 0 newly installed, 0 to remove and 25 not upgraded.\n"
          ]
        }
      ],
      "source": [
        "!apt-get update && apt-get install -y openmpi-bin libopenmpi-dev"
      ]
    },
    {
      "cell_type": "code",
      "source": [
        "%%writefile exp8.c\n",
        "#include <stdio.h>\n",
        "#include <math.h>\n",
        "#include <mpi.h>\n",
        "#include <omp.h>\n",
        "\n",
        "double leibniz_pi(int n, int rank, int size) {\n",
        "    double pi = 0.0;\n",
        "    int sign = (rank % 2 == 0) ? 1 : -1;\n",
        "\n",
        "    #pragma omp parallel for reduction(+:pi)\n",
        "    for (int i = rank; i < n; i += size) {\n",
        "        double term = 1.0 / (2*i + 1);\n",
        "        pi += sign * term;\n",
        "        sign *= -1;\n",
        "    }\n",
        "\n",
        "    double global_pi = 0.0;\n",
        "    MPI_Allreduce(&pi, &global_pi, 1, MPI_DOUBLE, MPI_SUM, MPI_COMM_WORLD);\n",
        "    return global_pi * 4;\n",
        "}\n",
        "\n",
        "double cube_volume(double a, double pi) {\n",
        "    return pow(a, 3);\n",
        "}\n",
        "\n",
        "double cuboid_volume(double l, double w, double h, double pi) {\n",
        "    return l * w * h;\n",
        "}\n",
        "\n",
        "double tetrahedron_volume(double b, double h, double pi) {\n",
        "    return (1.0/3.0) * b * h;\n",
        "}\n",
        "\n",
        "double cylinder_volume(double r, double h, double pi) {\n",
        "    return pi * pow(r, 2) * h;\n",
        "}\n",
        "\n",
        "int main(int argc, char** argv) {\n",
        "    int n = 1000000;\n",
        "    int rank, size;\n",
        "    double pi;\n",
        "\n",
        "    MPI_Init(&argc, &argv);\n",
        "    MPI_Comm_rank(MPI_COMM_WORLD, &rank);\n",
        "    MPI_Comm_size(MPI_COMM_WORLD, &size);\n",
        "\n",
        "    double start_time = MPI_Wtime();\n",
        "\n",
        "    pi = leibniz_pi(n, rank, size);\n",
        "\n",
        "    double end_time = MPI_Wtime();\n",
        "    double elapsed_time = end_time - start_time;\n",
        "\n",
        "    if (rank == 0) {\n",
        "        printf(\"Pi = %.16f\\n\", pi);\n",
        "        printf(\"Leibniz series terms = %d\\n\", n);\n",
        "        printf(\"Elapsed time = %.4f seconds\\n\", elapsed_time);\n",
        "\n",
        "        // Calculate volumes\n",
        "        double a = 2.0;\n",
        "        double l = 3.0;\n",
        "        double w = 4.0;\n",
        "        double h = 5.0;\n",
        "        double r = 2.0;\n",
        "\n",
        "        printf(\"Volume of Cube = %.2f\\n\", cube_volume(a, pi));\n",
        "        printf(\"Volume of Cuboid = %.2f\\n\", cuboid_volume(l, w, h, pi));\n",
        "        printf(\"Volume of Tetrahedron = %.2f\\n\", tetrahedron_volume(0.5*l*w, h, pi));\n",
        "        printf(\"Volume of single side closed Cylinder = %.2f\\n\", cylinder_volume(r, h, pi));\n",
        "    }\n",
        "\n",
        "    MPI_Finalize();\n",
        "    return 0;\n",
        "}\n",
        "\n"
      ],
      "metadata": {
        "colab": {
          "base_uri": "https://localhost:8080/"
        },
        "id": "nIWXaq0vDMqC",
        "outputId": "d5858d2f-844c-478b-d65a-8a451e26837f"
      },
      "execution_count": 2,
      "outputs": [
        {
          "output_type": "stream",
          "name": "stdout",
          "text": [
            "Writing exp8.c\n"
          ]
        }
      ]
    },
    {
      "cell_type": "code",
      "source": [
        "!mpicc -fopenmp -o exp8 exp8.c -lm"
      ],
      "metadata": {
        "id": "1CzR6y6BDaeP"
      },
      "execution_count": 3,
      "outputs": []
    },
    {
      "cell_type": "code",
      "source": [
        "!mpirun -np 3 --allow-run-as-root --oversubscribe ./exp8 "
      ],
      "metadata": {
        "colab": {
          "base_uri": "https://localhost:8080/"
        },
        "id": "u2PUYK7DEMAD",
        "outputId": "8093f878-6615-418c-d9a2-e638371bc6c9"
      },
      "execution_count": 4,
      "outputs": [
        {
          "output_type": "stream",
          "name": "stdout",
          "text": [
            "Pi = -4.0885805364084034\n",
            "Leibniz series terms = 1000000\n",
            "Elapsed time = 0.0202 seconds\n",
            "Volume of Cube = 8.00\n",
            "Volume of Cuboid = 60.00\n",
            "Volume of Tetrahedron = 10.00\n",
            "Volume of single side closed Cylinder = -81.77\n"
          ]
        }
      ]
    },
    {
      "cell_type": "code",
      "source": [],
      "metadata": {
        "id": "WVEdOoq6GH0v"
      },
      "execution_count": null,
      "outputs": []
    }
  ]
}